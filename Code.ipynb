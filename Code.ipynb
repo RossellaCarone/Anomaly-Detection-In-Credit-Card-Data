{
  "nbformat": 4,
  "nbformat_minor": 0,
  "metadata": {
    "colab": {
      "provenance": []
    },
    "kernelspec": {
      "name": "python3",
      "display_name": "Python 3"
    },
    "language_info": {
      "name": "python"
    }
  },
  "cells": [
    {
      "cell_type": "markdown",
      "source": [
        "Title: An Intelligent Approach For Anomaly Detection In Credit Card\n",
        "Data Using Bat Optimization Algorithm\n",
        "\n",
        "Student: Rossella Carone\n",
        "\n",
        "Personal Code: 10724687\n",
        "\n",
        "Numerical Analysis For Machine Learning, a.y.2023/2024"
      ],
      "metadata": {
        "id": "hekuFQHx8aIk"
      }
    },
    {
      "cell_type": "markdown",
      "source": [
        "0. Import the libraries"
      ],
      "metadata": {
        "id": "x_hKEMDb8lz2"
      }
    },
    {
      "cell_type": "code",
      "execution_count": null,
      "metadata": {
        "id": "icu9LJNY8YQu"
      },
      "outputs": [],
      "source": [
        "!pip install ReliefF\n",
        "!pip install -U Py_FS==0.2.1"
      ]
    },
    {
      "cell_type": "code",
      "source": [
        "import numpy as np\n",
        "import matplotlib.pyplot as plt\n",
        "import pandas as pd\n",
        "import seaborn as sns\n",
        "from imblearn.over_sampling import SMOTE\n",
        "from sklearn.model_selection import train_test_split\n",
        "from sklearn.preprocessing import StandardScaler\n",
        "from Py_FS.wrapper.population_based.BBA import BBA as FS\n",
        "import time\n",
        "import torch\n",
        "import torch.nn as nn\n",
        "import torch.optim as optim\n",
        "from torch.utils.data import Dataset\n",
        "from torch.utils.data import DataLoader\n",
        "from tqdm import tqdm\n",
        "from sklearn.model_selection import ParameterGrid\n",
        "from sklearn.model_selection import KFold\n",
        "from sklearn.metrics import confusion_matrix\n",
        "from sklearn.metrics import accuracy_score, precision_score, recall_score, f1_score, roc_auc_score"
      ],
      "metadata": {
        "id": "2vNT_mD_8gjw"
      },
      "execution_count": 2,
      "outputs": []
    },
    {
      "cell_type": "code",
      "source": [
        "seed=42\n",
        "torch.manual_seed(seed)"
      ],
      "metadata": {
        "id": "ONSU1OqE8j6t"
      },
      "execution_count": null,
      "outputs": []
    },
    {
      "cell_type": "markdown",
      "source": [
        "1. Exploratory Data Analysis"
      ],
      "metadata": {
        "id": "DkKjVQhk8qCL"
      }
    },
    {
      "cell_type": "code",
      "source": [
        "data = pd.read_csv('creditcard.csv')\n",
        "data.head()"
      ],
      "metadata": {
        "id": "IIW-4QOV8pnr"
      },
      "execution_count": null,
      "outputs": []
    },
    {
      "cell_type": "code",
      "source": [
        "data.info()"
      ],
      "metadata": {
        "id": "FZ2R82Ic8uQY"
      },
      "execution_count": null,
      "outputs": []
    },
    {
      "cell_type": "code",
      "source": [
        "data.describe()"
      ],
      "metadata": {
        "id": "fokurxvq8wlQ"
      },
      "execution_count": null,
      "outputs": []
    },
    {
      "cell_type": "code",
      "source": [
        "#check if there are NaN values\n",
        "nan_values = data.isna().sum()\n",
        "nan_values"
      ],
      "metadata": {
        "id": "_IiDirc380Ei"
      },
      "execution_count": null,
      "outputs": []
    },
    {
      "cell_type": "code",
      "source": [
        "#check if there any duplication\n",
        "data.duplicated().sum()"
      ],
      "metadata": {
        "id": "Vkyl4u-x820x"
      },
      "execution_count": null,
      "outputs": []
    },
    {
      "cell_type": "code",
      "source": [
        "data.drop_duplicates(data,inplace=True)"
      ],
      "metadata": {
        "id": "tBTWHAR884ti"
      },
      "execution_count": 7,
      "outputs": []
    },
    {
      "cell_type": "code",
      "source": [
        "# Dimension\n",
        "print (f\"There are {data.shape[0]} Rows and {data.shape[1]} columns\")"
      ],
      "metadata": {
        "id": "WMwq2_Gb87Un",
        "colab": {
          "base_uri": "https://localhost:8080/"
        },
        "outputId": "1459d05f-9fbe-4c55-9e21-d29a4e98bb79"
      },
      "execution_count": 6,
      "outputs": [
        {
          "output_type": "stream",
          "name": "stdout",
          "text": [
            "There are 284807 Rows and 31 columns\n"
          ]
        }
      ]
    },
    {
      "cell_type": "code",
      "source": [
        "# Distribution of the features\n",
        "plt.figure(figsize=(10, 6))\n",
        "data_plot=data.drop(['Time','Class'], axis=1)\n",
        "sns.boxplot(data=data_plot)\n",
        "plt.title('Variables boxplot')\n",
        "plt.ylim(-5, 50)\n",
        "plt.ylabel('Values')\n",
        "plt.xlabel('Variables')\n",
        "plt.show()"
      ],
      "metadata": {
        "id": "xgpu9iav896X"
      },
      "execution_count": null,
      "outputs": []
    },
    {
      "cell_type": "markdown",
      "source": [
        "As we can see in the plot, data is highly varied, we need to scale.\n",
        "\n",
        "I will scale data using Standard Scaler after the split into training and test set."
      ],
      "metadata": {
        "id": "N0fii1bJ9A24"
      }
    },
    {
      "cell_type": "code",
      "source": [
        "#Target distribution\n",
        "fraud = (data['Class'] == 1).sum()\n",
        "no_fraud = (data['Class'] == 0).sum()\n",
        "tot=fraud + no_fraud\n",
        "print(\"%d fraudulent credit card transactions out of %d\" % (fraud, tot))"
      ],
      "metadata": {
        "id": "6nf3GlE58-Xq"
      },
      "execution_count": null,
      "outputs": []
    },
    {
      "cell_type": "code",
      "source": [
        "ax = sns.countplot(data = data, x = \"Class\", width = 0.3)\n",
        "ax.hist(data[data['Class'] == 0]['Class'], bins=3, color='teal', label='No Fraud')\n",
        "ax.hist(data[data['Class'] == 1]['Class'], bins=3, color='orange', label='Fraud')\n",
        "ax.set_title(\"Distribution of Transaction\")\n",
        "plt.xlabel(\"Type of Transaction\")\n",
        "plt.ylabel(\"Number of Transaction\")\n",
        "for i in ax.containers:\n",
        "    ax.bar_label(i)\n",
        "plt.legend()\n",
        "plt.show()"
      ],
      "metadata": {
        "id": "cc26aCoC9EqX"
      },
      "execution_count": null,
      "outputs": []
    },
    {
      "cell_type": "markdown",
      "source": [
        "As we can see in the histogram, the dataset is highly unbalanced."
      ],
      "metadata": {
        "id": "m2B9cjZm9HYi"
      }
    },
    {
      "cell_type": "code",
      "source": [
        "# Another type of visualization\n",
        "data[\"Class\"].value_counts().plot(kind= \"pie\",autopct='%1.2f%%', shadow = True)\n",
        "plt.show()"
      ],
      "metadata": {
        "id": "xdduDsvw9Jw0"
      },
      "execution_count": null,
      "outputs": []
    },
    {
      "cell_type": "code",
      "source": [
        "# Correlation among the features\n",
        "plt.figure(figsize = (20, 12))\n",
        "ax = sns.heatmap(data.corr(), annot = True, fmt = '.2f')\n",
        "for i in range(data.shape[1] + 1):\n",
        "    ax.axvline(i, color='white', lw = 2)\n",
        "    ax.axhline(i, color='white', lw = 2)\n",
        "plt.show()"
      ],
      "metadata": {
        "id": "yfAx7dQF9LSr"
      },
      "execution_count": null,
      "outputs": []
    },
    {
      "cell_type": "markdown",
      "source": [
        "Negative Correlations: the lower these values are, the more likely the end result will be a fraud transaction.\n",
        "\n",
        "Positive Correlations: the higher these values are, the more likely the end result will be a fraud transaction."
      ],
      "metadata": {
        "id": "CHWWcrRc9NKi"
      }
    },
    {
      "cell_type": "markdown",
      "source": [
        "2. Balancing data"
      ],
      "metadata": {
        "id": "7fJrjGhk9RCu"
      }
    },
    {
      "cell_type": "code",
      "source": [
        "smote = SMOTE(sampling_strategy='auto', random_state=seed)\n",
        "X= data.loc[:, 'Time':'Amount']\n",
        "y=data['Class']\n",
        "X, y = smote.fit_resample(X, y)\n",
        "y_array= np.expand_dims(y.to_numpy(), axis=1)\n",
        "df=np.concatenate((X, y_array), axis=1)\n",
        "df = pd.DataFrame(df, columns=['Time'] + [f'V{i}' for i in range(1, 29)] +['Amount']+ ['Class'])\n",
        "df.head()"
      ],
      "metadata": {
        "id": "bRtzlLTJ9TSS"
      },
      "execution_count": null,
      "outputs": []
    },
    {
      "cell_type": "code",
      "source": [
        "fraud = (df['Class'] == 1).sum()\n",
        "no_fraud = (df['Class'] == 0).sum()\n",
        "tot=fraud + no_fraud\n",
        "print(\"%d fraudulent credit card transactions out of %d\" % (fraud, tot))"
      ],
      "metadata": {
        "id": "ovCiVcJf9XrC"
      },
      "execution_count": null,
      "outputs": []
    },
    {
      "cell_type": "code",
      "source": [
        "ax = sns.countplot(data = df, x = \"Class\", width = 0.3)\n",
        "ax.hist(df[df['Class'] == 0]['Class'], bins=3, color='teal', label='No Fraud')\n",
        "ax.hist(df[df['Class'] == 1]['Class'], bins=3, color='orange', label='Fraud')\n",
        "ax.set_title(\"Distribution of Transaction\")\n",
        "plt.xlabel(\"Type of Transaction\")\n",
        "plt.ylabel(\"Number of Transaction\")\n",
        "for i in ax.containers:\n",
        "    ax.bar_label(i)\n",
        "plt.legend()\n",
        "plt.show()"
      ],
      "metadata": {
        "id": "0tt4QdBj9ZBx"
      },
      "execution_count": null,
      "outputs": []
    },
    {
      "cell_type": "code",
      "source": [
        "df[\"Class\"].value_counts().plot(kind= \"pie\",autopct='%1.2f%%', shadow = True)\n",
        "plt.show()"
      ],
      "metadata": {
        "id": "TUi8suJN9Zlw"
      },
      "execution_count": null,
      "outputs": []
    },
    {
      "cell_type": "markdown",
      "source": [
        "3. Split into training, validation and test set:\n",
        "\n",
        "- 70% data: TRAINING SET\n",
        "\n",
        "- 15% data: VALIDATION SET\n",
        "\n",
        "- 15% data: TEST SET"
      ],
      "metadata": {
        "id": "163drSVL9f2k"
      }
    },
    {
      "cell_type": "code",
      "source": [
        "X_train, X_combined, y_train, y_combined = train_test_split(X, y, test_size=0.3, random_state=seed)\n",
        "X_val, X_test, y_val, y_test = train_test_split(X_combined, y_combined, test_size=0.5, random_state=seed)"
      ],
      "metadata": {
        "id": "E2iQuZ-gr6ah"
      },
      "execution_count": 9,
      "outputs": []
    },
    {
      "cell_type": "markdown",
      "source": [
        "4. Normalization"
      ],
      "metadata": {
        "id": "GJLWaf_r-P_i"
      }
    },
    {
      "cell_type": "code",
      "source": [
        "# Normalization\n",
        "scaler=StandardScaler()\n",
        "X_train_scaled=scaler.fit_transform(X_train)\n",
        "X_val_scaled=scaler.fit_transform(X_val)\n",
        "X_test_scaled=scaler.fit_transform(X_test)\n",
        "X_train = pd.DataFrame(X_train_scaled, columns=X_train.columns)\n",
        "X_val = pd.DataFrame(X_val_scaled, columns=X_val.columns)\n",
        "X_test = pd.DataFrame(X_test_scaled, columns=X_test.columns)"
      ],
      "metadata": {
        "id": "fgt4Xpz1-SDH"
      },
      "execution_count": 10,
      "outputs": []
    },
    {
      "cell_type": "markdown",
      "source": [
        "5. Feature selection - BAT Optimization Algorithm"
      ],
      "metadata": {
        "id": "1niWy6Gn9pQ2"
      }
    },
    {
      "cell_type": "markdown",
      "source": [
        "Values for the algorithm:\n",
        "\n",
        "Min Frequency (default=0): 0\n",
        "\n",
        "Max Frequency (default=2): 1\n",
        "\n",
        "Loudness (default=1.0): 1\n",
        "\n",
        "Pulse emission rate (default=0.15): 0.15\n",
        "\n",
        "Alpha value [0-1] (default=0.95): 0.90\n",
        "\n",
        "Gamma value [0-1] (default=0.5): 0.90\n",
        "\n",
        "Othere parameters are set to their default values"
      ],
      "metadata": {
        "id": "4YAP3qMG97__"
      }
    },
    {
      "cell_type": "code",
      "source": [
        "start_time = time.time()\n",
        "algo = FS(num_agents=25, max_iter=20, train_data=X_val, train_label=y_val, save_conv_graph=True)\n",
        "results = algo.run()\n",
        "end_time = time.time()\n",
        "execution_time = end_time - start_time\n",
        "print(\"Execution time of Bat Algorithm:\", execution_time, \"seconds\")"
      ],
      "metadata": {
        "id": "Sgj4m-lS9or8"
      },
      "execution_count": null,
      "outputs": []
    },
    {
      "cell_type": "code",
      "source": [
        "print(results.solution.best_agent)\n",
        "col_indices=results.solution.best_agent\n",
        "n_features=sum(results.solution.best_agent).astype(int)\n",
        "print(\"The number of selected features is:\", n_features)"
      ],
      "metadata": {
        "id": "QYYCM-Qj-AxG"
      },
      "execution_count": null,
      "outputs": []
    },
    {
      "cell_type": "code",
      "source": [
        "#To not run again the algorithm\n",
        "#col_indices = np.array([1., 0., 0., 0., 1., 0., 1., 0., 0., 0., 1., 0., 0., 0., 0., 0., 0., 1., 0., 0., 0., 0., 0., 0.,0., 0., 0., 0., 0., 0.])\n",
        "#n_features = 5"
      ],
      "metadata": {
        "id": "krzTBDWr3_fO"
      },
      "execution_count": 11,
      "outputs": []
    },
    {
      "cell_type": "code",
      "source": [
        "X_train= X_train.iloc[:, col_indices.nonzero()[0]]\n",
        "X_val= X_val.iloc[:, col_indices.nonzero()[0]]\n",
        "X_test= X_test.iloc[:, col_indices.nonzero()[0]]"
      ],
      "metadata": {
        "id": "kI1fQWQGN8Y5"
      },
      "execution_count": 12,
      "outputs": []
    },
    {
      "cell_type": "markdown",
      "source": [
        "6. FCL Function"
      ],
      "metadata": {
        "id": "jvsGd_LL-W2T"
      }
    },
    {
      "cell_type": "markdown",
      "source": [
        "6.1 DCL Function"
      ],
      "metadata": {
        "id": "ePJlyoIs-Xmg"
      }
    },
    {
      "cell_type": "code",
      "source": [
        "class DCL(nn.Module):\n",
        "    \"\"\"Distance loss.\n",
        "\n",
        "    Args:\n",
        "        num_classes (int): number of classes.\n",
        "        feat_dim (int): feature dimension.\n",
        "    \"\"\"\n",
        "    def __init__(self, num_classes, deep_representation_size):\n",
        "\n",
        "        # Defining the loss as a class, to better perform the computation.\n",
        "        # Deep representation size corresponds to the dimension of f_i, the embeddings.\n",
        "        super(DCL, self).__init__()\n",
        "        self.num_classes = num_classes\n",
        "        self.input_size = deep_representation_size\n",
        "        self.centers = nn.Parameter(torch.randn(self.num_classes, self.input_size, dtype=torch.float64))\n",
        "\n",
        "    def forward(self, x, labels):\n",
        "        \"\"\"\n",
        "        Args:\n",
        "            x: deep representation batch of size (batch_size, deep_representation_size).\n",
        "            labels: ground truth labels with shape (batch_size).\n",
        "        \"\"\"\n",
        "\n",
        "        # Computing the euclidean distance w.r.t. the correct label and its centroid.\n",
        "        batch_size = x.size(0)\n",
        "        distmat = torch.pow(x, 2).sum(dim=1, keepdim=True).expand(batch_size, self.num_classes) + \\\n",
        "                  torch.pow(self.centers, 2).sum(dim=1, keepdim=True).expand(self.num_classes, batch_size).t()\n",
        "        distmat.addmm_(1, -2, x, self.centers.t())\n",
        "\n",
        "        # Considering the distance corresponding to the correct label\n",
        "        classes = torch.arange(self.num_classes).long()\n",
        "        labels = labels.unsqueeze(1).expand(batch_size, self.num_classes)\n",
        "        mask = labels.eq(classes.expand(batch_size, self.num_classes))\n",
        "        dist = distmat * mask.float()\n",
        "        dcl_loss = dist.clamp(min=1e-12, max=1e+12).sum() / batch_size\n",
        "\n",
        "        return dcl_loss"
      ],
      "metadata": {
        "id": "FmCv4QzJ-ZuY"
      },
      "execution_count": 13,
      "outputs": []
    },
    {
      "cell_type": "markdown",
      "source": [
        "6.2 ACL Function"
      ],
      "metadata": {
        "id": "AI45VhPr-jfs"
      }
    },
    {
      "cell_type": "code",
      "source": [
        "class ACL(nn.Module):\n",
        "    \"\"\"Angle Center loss.\n",
        "\n",
        "    Assumption: no offset and opposite matrices.\n",
        "\n",
        "    Args:\n",
        "        num_classes (int): number of classes.\n",
        "        feat_dim (int): feature dimension.\n",
        "    \"\"\"\n",
        "\n",
        "    def __init__(self, deep_representation_size):\n",
        "\n",
        "        super(ACL, self).__init__()\n",
        "\n",
        "        # We are assuming to have two classes\n",
        "        # Therefore we only define W as a vector\n",
        "\n",
        "        # We assume self.W stands for W_0. W_1 = - W_0\n",
        "        self.W = nn.Parameter(torch.randn(deep_representation_size, dtype=torch.float64))\n",
        "\n",
        "\n",
        "    def forward(self, x, labels):\n",
        "        \"\"\"\n",
        "        Args:\n",
        "            x: deep_representation batch of size (batch_size, deep_representation).\n",
        "            labels: ground truth labels with shape (batch_size).\n",
        "        \"\"\"\n",
        "        acl_loss = torch.sum(torch.log(1 + torch.exp( (-1)**labels * torch.matmul(x,self.W) )))\n",
        "\n",
        "        return acl_loss"
      ],
      "metadata": {
        "id": "azPavILf-in4"
      },
      "execution_count": 14,
      "outputs": []
    },
    {
      "cell_type": "markdown",
      "source": [
        "7. Model"
      ],
      "metadata": {
        "id": "7VUzaDqD-np1"
      }
    },
    {
      "cell_type": "code",
      "source": [
        "class Model(nn.Module):\n",
        "    def __init__(self,input_size):\n",
        "        super(Model, self).__init__()\n",
        "        self.fc1 = nn.Linear(input_size, 32, dtype=torch.float64)\n",
        "        self.fc2 = nn.Linear(32, 64, dtype=torch.float64)\n",
        "        self.fc3 = nn.Linear(64, 16, dtype=torch.float64)\n",
        "        self.fc4 = nn.Linear(16, 8, dtype=torch.float64)\n",
        "        self.fc5 = nn.Linear(8, 1, dtype=torch.float64)\n",
        "        self.activation = nn.ReLU()\n",
        "        self.sigmoid = nn.Sigmoid()\n",
        "\n",
        "    def forward(self, x):\n",
        "        x = self.activation(self.fc1(x))\n",
        "        x = self.activation(self.fc2(x))\n",
        "        x = self.activation(self.fc3(x))\n",
        "        fi = self.activation(self.fc4(x))\n",
        "        output = self.sigmoid(self.fc5(fi))\n",
        "        return fi, torch.ravel(output)\n",
        "\n",
        "# Defining useful variables\n",
        "model_input_size = n_features\n",
        "deep_representation_size = 8\n",
        "\n",
        "# Set the number of epochs\n",
        "n_epochs = 5\n",
        "\n",
        "# Set the batch size\n",
        "batch_size = 128\n",
        "\n",
        "#How to define the model, losses, parameters and optimizer:\n",
        "\n",
        "# Creating the model object\n",
        "model = Model(model_input_size)\n",
        "\n",
        "# Creating the loss functions\n",
        "dcl_loss = DCL(2,deep_representation_size)\n",
        "acl_loss = ACL(deep_representation_size)\n",
        "binary_loss = nn.BCELoss()\n",
        "\n",
        "# Define the parameters\n",
        "params = list(model.parameters()) + list(dcl_loss.parameters()) + list(acl_loss.parameters())\n",
        "\n",
        "# Define the optimizer\n",
        "optimizer = torch.optim.SGD(params, lr=0.1)\n"
      ],
      "metadata": {
        "id": "R_2ZDWBM-WfJ"
      },
      "execution_count": 15,
      "outputs": []
    },
    {
      "cell_type": "markdown",
      "source": [
        "Defining a CustomerDataset, to be able to give the observations to the PyTorch DataLoader"
      ],
      "metadata": {
        "id": "TRbDf46y5lwy"
      }
    },
    {
      "cell_type": "code",
      "source": [
        "class CustomDataset(Dataset):\n",
        "    def __init__(self, X, y):\n",
        "        self.X = X\n",
        "        self.y = y\n",
        "\n",
        "    def __len__(self):\n",
        "        return self.X.shape[0]\n",
        "\n",
        "    def __getitem__(self, idx):\n",
        "        return self.X.iloc[idx,:].values, self.y.iloc[idx]"
      ],
      "metadata": {
        "id": "QvcAdxNg-ya5"
      },
      "execution_count": 16,
      "outputs": []
    },
    {
      "cell_type": "code",
      "source": [
        "def train_and_evaluate(X_train, y_train, X_test, y_test, model,\n",
        "                       acl_loss, dcl_loss, binary_loss, alpha, beta, optimizer, n_epochs,batch_size):\n",
        "\n",
        "  training_dataset = CustomDataset(X_train,y_train)\n",
        "  train_dataloader = DataLoader(training_dataset, batch_size=batch_size, shuffle=True)\n",
        "\n",
        "  for epoch in range(n_epochs):\n",
        "    for feature, label in tqdm(train_dataloader, total=len(train_dataloader)):\n",
        "\n",
        "            optimizer.zero_grad()\n",
        "            fi,output = model(feature)\n",
        "            fcl_loss = acl_loss(fi,label) + alpha * dcl_loss(fi, label)\n",
        "            b_loss=binary_loss(output,label.double())\n",
        "            loss= beta*fcl_loss + b_loss\n",
        "            loss.backward()\n",
        "            optimizer.step()\n",
        "\n",
        "  test_dataset = CustomDataset(X_test, y_test)\n",
        "  test_dataloader = DataLoader(test_dataset, batch_size=batch_size, shuffle=True)\n",
        "  all_predictions = []\n",
        "  all_labels = []\n",
        "\n",
        "  with torch.no_grad():\n",
        "        for data, labels in tqdm(test_dataloader, total=len(test_dataloader)):\n",
        "            features, outputs = model(data)\n",
        "            predictions = torch.round(outputs)\n",
        "            all_predictions.extend(predictions.cpu().numpy())\n",
        "            all_labels.extend(labels.cpu().numpy())\n",
        "\n",
        "  accuracy = accuracy_score(all_labels, all_predictions)\n",
        "  precision = precision_score(all_labels, all_predictions)\n",
        "  recall = recall_score(all_labels, all_predictions)\n",
        "  f1 = f1_score(all_labels, all_predictions)\n",
        "  auc = roc_auc_score(all_labels, all_predictions)\n",
        "\n",
        "  return accuracy, precision, recall, f1, auc, all_labels, all_predictions"
      ],
      "metadata": {
        "id": "mfG1ajRpQsM-"
      },
      "execution_count": 17,
      "outputs": []
    },
    {
      "cell_type": "markdown",
      "source": [
        "8. Hyperparameters setting through grid search method\n",
        "\n",
        "   We need to find the optimal value for:\n",
        "\n",
        " - Learning rate\n",
        " - Weight of DCL Function (alpha)\n",
        " - Weight of FCL Function (beta)\n"
      ],
      "metadata": {
        "id": "TgPI-VynsQJh"
      }
    },
    {
      "cell_type": "code",
      "source": [
        "param_grid = {\n",
        "    'lr': [0.1, 0.05, 0.01],\n",
        "    'alpha': [0.2, 0.15, 0.10],\n",
        "    'beta': [0.15, 0.1, 0.05],\n",
        "}\n",
        "\n",
        "results = []\n",
        "k_folds = 5\n",
        "kf = KFold(n_splits=k_folds, shuffle=True)\n",
        "\n",
        "for par in ParameterGrid(param_grid):\n",
        "\n",
        "  lr=par['lr']\n",
        "  alpha=par['alpha']\n",
        "  beta=par['beta']\n",
        "  accuracy = 0\n",
        "\n",
        "  for train_index, test_index in kf.split(X_val):\n",
        "      X_train_fold, X_test_fold = X_val.iloc[train_index,:], X_val.iloc[test_index,:]\n",
        "      y_train_fold, y_test_fold = y_val.iloc[train_index], y_val.iloc[test_index]\n",
        "      model = Model(model_input_size)\n",
        "      dcl_loss = DCL(2,deep_representation_size)\n",
        "      acl_loss = ACL(deep_representation_size)\n",
        "      binary_loss = nn.BCELoss()\n",
        "      params = list(model.parameters()) + list(dcl_loss.parameters()) + list(acl_loss.parameters())\n",
        "      optimizer = torch.optim.SGD(params, lr=lr)\n",
        "      acc = train_and_evaluate(X_train_fold, y_train_fold, X_test_fold, y_test_fold, model,\n",
        "                       acl_loss, dcl_loss, binary_loss, alpha, beta, optimizer, n_epochs, batch_size)[0]\n",
        "      accuracy += acc\n",
        "  accuracy /= k_folds\n",
        "  results.append({\n",
        "        'parameters': par,\n",
        "        'accuracy': accuracy,\n",
        "      })\n",
        "\n",
        "\n",
        "best_result = max(results, key=lambda x: x['accuracy'])\n",
        "best_params = best_result['parameters']\n",
        "best_accuracy = best_result['accuracy']\n",
        "print(\"Best parameters:\", best_params)\n",
        "print(\"Best accuracy:\", best_accuracy)\n"
      ],
      "metadata": {
        "id": "xGphpHVrsfXO",
        "colab": {
          "base_uri": "https://localhost:8080/"
        },
        "outputId": "02a1e1bd-c5bb-416e-b1db-eb1924fe2afb"
      },
      "execution_count": 22,
      "outputs": [
        {
          "output_type": "stream",
          "name": "stderr",
          "text": [
            "100%|██████████| 532/532 [00:06<00:00, 78.93it/s]\n",
            "100%|██████████| 532/532 [00:08<00:00, 64.94it/s]\n",
            "100%|██████████| 532/532 [00:07<00:00, 74.58it/s]\n",
            "100%|██████████| 532/532 [00:07<00:00, 68.96it/s]\n",
            "100%|██████████| 532/532 [00:07<00:00, 67.45it/s]\n",
            "100%|██████████| 133/133 [00:01<00:00, 80.36it/s]\n",
            "100%|██████████| 532/532 [00:06<00:00, 78.83it/s]\n",
            "100%|██████████| 532/532 [00:08<00:00, 65.94it/s]\n",
            "100%|██████████| 532/532 [00:06<00:00, 78.24it/s]\n",
            "100%|██████████| 532/532 [00:08<00:00, 65.34it/s]\n",
            "100%|██████████| 532/532 [00:06<00:00, 77.85it/s]\n",
            "100%|██████████| 133/133 [00:02<00:00, 61.83it/s]\n",
            "/usr/local/lib/python3.10/dist-packages/sklearn/metrics/_classification.py:1344: UndefinedMetricWarning: Precision is ill-defined and being set to 0.0 due to no predicted samples. Use `zero_division` parameter to control this behavior.\n",
            "  _warn_prf(average, modifier, msg_start, len(result))\n",
            "100%|██████████| 532/532 [00:07<00:00, 74.07it/s]\n",
            "100%|██████████| 532/532 [00:08<00:00, 65.21it/s]\n",
            "100%|██████████| 532/532 [00:06<00:00, 78.52it/s]\n",
            "100%|██████████| 532/532 [00:08<00:00, 64.95it/s]\n",
            "100%|██████████| 532/532 [00:06<00:00, 77.81it/s]\n",
            "100%|██████████| 133/133 [00:01<00:00, 97.27it/s]\n",
            "100%|██████████| 532/532 [00:08<00:00, 65.11it/s]\n",
            "100%|██████████| 532/532 [00:07<00:00, 73.12it/s]\n",
            "100%|██████████| 532/532 [00:07<00:00, 70.39it/s]\n",
            "100%|██████████| 532/532 [00:08<00:00, 63.89it/s]\n",
            "100%|██████████| 532/532 [00:08<00:00, 64.93it/s]\n",
            "100%|██████████| 133/133 [00:01<00:00, 94.43it/s]\n",
            "/usr/local/lib/python3.10/dist-packages/sklearn/metrics/_classification.py:1344: UndefinedMetricWarning: Precision is ill-defined and being set to 0.0 due to no predicted samples. Use `zero_division` parameter to control this behavior.\n",
            "  _warn_prf(average, modifier, msg_start, len(result))\n",
            "100%|██████████| 532/532 [00:08<00:00, 64.31it/s]\n",
            "100%|██████████| 532/532 [00:06<00:00, 78.88it/s]\n",
            "100%|██████████| 532/532 [00:08<00:00, 65.76it/s]\n",
            "100%|██████████| 532/532 [00:07<00:00, 75.62it/s]\n",
            "100%|██████████| 532/532 [00:08<00:00, 66.00it/s]\n",
            "100%|██████████| 133/133 [00:01<00:00, 98.28it/s]\n",
            "/usr/local/lib/python3.10/dist-packages/sklearn/metrics/_classification.py:1344: UndefinedMetricWarning: Precision is ill-defined and being set to 0.0 due to no predicted samples. Use `zero_division` parameter to control this behavior.\n",
            "  _warn_prf(average, modifier, msg_start, len(result))\n",
            "100%|██████████| 532/532 [00:08<00:00, 64.84it/s]\n",
            "100%|██████████| 532/532 [00:06<00:00, 78.14it/s]\n",
            "100%|██████████| 532/532 [00:08<00:00, 65.10it/s]\n",
            "100%|██████████| 532/532 [00:06<00:00, 79.45it/s]\n",
            "100%|██████████| 532/532 [00:08<00:00, 65.64it/s]\n",
            "100%|██████████| 133/133 [00:01<00:00, 97.12it/s]\n",
            "100%|██████████| 532/532 [00:07<00:00, 69.98it/s]\n",
            "100%|██████████| 532/532 [00:07<00:00, 71.85it/s]\n",
            "100%|██████████| 532/532 [00:08<00:00, 65.18it/s]\n",
            "100%|██████████| 532/532 [00:06<00:00, 79.23it/s]\n",
            "100%|██████████| 532/532 [00:08<00:00, 65.58it/s]\n",
            "100%|██████████| 133/133 [00:01<00:00, 96.81it/s]\n",
            "100%|██████████| 532/532 [00:06<00:00, 78.10it/s]\n",
            "100%|██████████| 532/532 [00:08<00:00, 65.13it/s]\n",
            "100%|██████████| 532/532 [00:07<00:00, 75.38it/s]\n",
            "100%|██████████| 532/532 [00:07<00:00, 68.80it/s]\n",
            "100%|██████████| 532/532 [00:07<00:00, 70.00it/s]\n",
            "100%|██████████| 133/133 [00:01<00:00, 73.25it/s]\n",
            "100%|██████████| 532/532 [00:06<00:00, 79.42it/s]\n",
            "100%|██████████| 532/532 [00:08<00:00, 65.21it/s]\n",
            "100%|██████████| 532/532 [00:06<00:00, 78.87it/s]\n",
            "100%|██████████| 532/532 [00:08<00:00, 65.57it/s]\n",
            "100%|██████████| 532/532 [00:06<00:00, 79.81it/s]\n",
            "100%|██████████| 133/133 [00:02<00:00, 63.95it/s]\n",
            "100%|██████████| 532/532 [00:07<00:00, 71.62it/s]\n",
            "100%|██████████| 532/532 [00:08<00:00, 65.49it/s]\n",
            "100%|██████████| 532/532 [00:06<00:00, 78.08it/s]\n",
            "100%|██████████| 532/532 [00:08<00:00, 65.36it/s]\n",
            "100%|██████████| 532/532 [00:06<00:00, 79.19it/s]\n",
            "100%|██████████| 133/133 [00:01<00:00, 97.60it/s]\n",
            "100%|██████████| 532/532 [00:08<00:00, 65.45it/s]\n",
            "100%|██████████| 532/532 [00:07<00:00, 75.79it/s]\n",
            "100%|██████████| 532/532 [00:07<00:00, 67.63it/s]\n",
            "100%|██████████| 532/532 [00:07<00:00, 68.94it/s]\n",
            "100%|██████████| 532/532 [00:07<00:00, 74.40it/s]\n",
            "100%|██████████| 133/133 [00:01<00:00, 97.41it/s]\n",
            "100%|██████████| 532/532 [00:08<00:00, 65.05it/s]\n",
            "100%|██████████| 532/532 [00:06<00:00, 79.63it/s]\n",
            "100%|██████████| 532/532 [00:08<00:00, 65.49it/s]\n",
            "100%|██████████| 532/532 [00:06<00:00, 77.72it/s]\n",
            "100%|██████████| 532/532 [00:08<00:00, 65.19it/s]\n",
            "100%|██████████| 133/133 [00:01<00:00, 97.14it/s]\n",
            "100%|██████████| 532/532 [00:08<00:00, 65.43it/s]\n",
            "100%|██████████| 532/532 [00:06<00:00, 78.28it/s]\n",
            "100%|██████████| 532/532 [00:08<00:00, 65.17it/s]\n",
            "100%|██████████| 532/532 [00:06<00:00, 78.13it/s]\n",
            "100%|██████████| 532/532 [00:08<00:00, 64.84it/s]\n",
            "100%|██████████| 133/133 [00:01<00:00, 95.31it/s]\n",
            "100%|██████████| 532/532 [00:07<00:00, 72.78it/s]\n",
            "100%|██████████| 532/532 [00:07<00:00, 69.39it/s]\n",
            "100%|██████████| 532/532 [00:07<00:00, 67.75it/s]\n",
            "100%|██████████| 532/532 [00:06<00:00, 76.37it/s]\n",
            "100%|██████████| 532/532 [00:08<00:00, 64.47it/s]\n",
            "100%|██████████| 133/133 [00:01<00:00, 95.07it/s]\n",
            "100%|██████████| 532/532 [00:06<00:00, 78.36it/s]\n",
            "100%|██████████| 532/532 [00:08<00:00, 65.35it/s]\n",
            "100%|██████████| 532/532 [00:06<00:00, 77.44it/s]\n",
            "100%|██████████| 532/532 [00:07<00:00, 66.51it/s]\n",
            "100%|██████████| 532/532 [00:07<00:00, 70.84it/s]\n",
            "100%|██████████| 133/133 [00:02<00:00, 64.77it/s]\n",
            "100%|██████████| 532/532 [00:06<00:00, 78.53it/s]\n",
            "100%|██████████| 532/532 [00:08<00:00, 65.10it/s]\n",
            "100%|██████████| 532/532 [00:06<00:00, 78.96it/s]\n",
            "100%|██████████| 532/532 [00:08<00:00, 66.17it/s]\n",
            "100%|██████████| 532/532 [00:06<00:00, 79.34it/s]\n",
            "100%|██████████| 133/133 [00:01<00:00, 72.84it/s]\n",
            "100%|██████████| 532/532 [00:07<00:00, 69.28it/s]\n",
            "100%|██████████| 532/532 [00:08<00:00, 66.21it/s]\n",
            "100%|██████████| 532/532 [00:06<00:00, 76.99it/s]\n",
            "100%|██████████| 532/532 [00:08<00:00, 65.33it/s]\n",
            "100%|██████████| 532/532 [00:06<00:00, 78.82it/s]\n",
            "100%|██████████| 133/133 [00:01<00:00, 96.37it/s]\n",
            "100%|██████████| 532/532 [00:08<00:00, 64.46it/s]\n",
            "100%|██████████| 532/532 [00:07<00:00, 75.21it/s]\n",
            "100%|██████████| 532/532 [00:07<00:00, 66.90it/s]\n",
            "100%|██████████| 532/532 [00:07<00:00, 69.95it/s]\n",
            "100%|██████████| 532/532 [00:07<00:00, 72.70it/s]\n",
            "100%|██████████| 133/133 [00:01<00:00, 97.27it/s]\n",
            "100%|██████████| 532/532 [00:08<00:00, 64.78it/s]\n",
            "100%|██████████| 532/532 [00:06<00:00, 77.75it/s]\n",
            "100%|██████████| 532/532 [00:08<00:00, 64.69it/s]\n",
            "100%|██████████| 532/532 [00:06<00:00, 79.20it/s]\n",
            "100%|██████████| 532/532 [00:08<00:00, 65.41it/s]\n",
            "100%|██████████| 133/133 [00:01<00:00, 97.45it/s]\n",
            "100%|██████████| 532/532 [00:08<00:00, 65.00it/s]\n",
            "100%|██████████| 532/532 [00:06<00:00, 78.75it/s]\n",
            "100%|██████████| 532/532 [00:08<00:00, 65.24it/s]\n",
            "100%|██████████| 532/532 [00:06<00:00, 78.72it/s]\n",
            "100%|██████████| 532/532 [00:08<00:00, 64.83it/s]\n",
            "100%|██████████| 133/133 [00:01<00:00, 96.61it/s]\n",
            "100%|██████████| 532/532 [00:07<00:00, 73.98it/s]\n",
            "100%|██████████| 532/532 [00:07<00:00, 69.27it/s]\n",
            "100%|██████████| 532/532 [00:07<00:00, 67.87it/s]\n",
            "100%|██████████| 532/532 [00:07<00:00, 75.00it/s]\n",
            "100%|██████████| 532/532 [00:08<00:00, 64.77it/s]\n",
            "100%|██████████| 133/133 [00:01<00:00, 97.51it/s]\n",
            "100%|██████████| 532/532 [00:06<00:00, 79.20it/s]\n",
            "100%|██████████| 532/532 [00:08<00:00, 65.02it/s]\n",
            "100%|██████████| 532/532 [00:06<00:00, 78.40it/s]\n",
            "100%|██████████| 532/532 [00:08<00:00, 64.57it/s]\n",
            "100%|██████████| 532/532 [00:07<00:00, 71.80it/s]\n",
            "100%|██████████| 133/133 [00:02<00:00, 61.76it/s]\n",
            "100%|██████████| 532/532 [00:06<00:00, 78.62it/s]\n",
            "100%|██████████| 532/532 [00:08<00:00, 65.18it/s]\n",
            "100%|██████████| 532/532 [00:06<00:00, 78.91it/s]\n",
            "100%|██████████| 532/532 [00:08<00:00, 64.80it/s]\n",
            "100%|██████████| 532/532 [00:06<00:00, 78.97it/s]\n",
            "100%|██████████| 133/133 [00:01<00:00, 70.89it/s]\n",
            "100%|██████████| 532/532 [00:07<00:00, 69.23it/s]\n",
            "100%|██████████| 532/532 [00:08<00:00, 65.44it/s]\n",
            "100%|██████████| 532/532 [00:06<00:00, 78.87it/s]\n",
            "100%|██████████| 532/532 [00:08<00:00, 64.96it/s]\n",
            "100%|██████████| 532/532 [00:06<00:00, 78.95it/s]\n",
            "100%|██████████| 133/133 [00:01<00:00, 96.56it/s]\n",
            "100%|██████████| 532/532 [00:08<00:00, 64.69it/s]\n",
            "100%|██████████| 532/532 [00:07<00:00, 75.07it/s]\n",
            "100%|██████████| 532/532 [00:07<00:00, 67.50it/s]\n",
            "100%|██████████| 532/532 [00:07<00:00, 69.26it/s]\n",
            "100%|██████████| 532/532 [00:07<00:00, 74.05it/s]\n",
            "100%|██████████| 133/133 [00:01<00:00, 97.45it/s]\n",
            "100%|██████████| 532/532 [00:08<00:00, 64.76it/s]\n",
            "100%|██████████| 532/532 [00:06<00:00, 78.45it/s]\n",
            "100%|██████████| 532/532 [00:08<00:00, 64.93it/s]\n",
            "100%|██████████| 532/532 [00:06<00:00, 79.15it/s]\n",
            "100%|██████████| 532/532 [00:08<00:00, 65.16it/s]\n",
            "100%|██████████| 133/133 [00:01<00:00, 98.11it/s]\n",
            "100%|██████████| 532/532 [00:08<00:00, 64.88it/s]\n",
            "100%|██████████| 532/532 [00:06<00:00, 78.12it/s]\n",
            "100%|██████████| 532/532 [00:08<00:00, 64.69it/s]\n",
            "100%|██████████| 532/532 [00:06<00:00, 78.12it/s]\n",
            "100%|██████████| 532/532 [00:08<00:00, 65.31it/s]\n",
            "100%|██████████| 133/133 [00:01<00:00, 98.26it/s]\n",
            "100%|██████████| 532/532 [00:07<00:00, 73.75it/s]\n",
            "100%|██████████| 532/532 [00:07<00:00, 68.54it/s]\n",
            "100%|██████████| 532/532 [00:08<00:00, 65.73it/s]\n",
            "100%|██████████| 532/532 [00:06<00:00, 77.36it/s]\n",
            "100%|██████████| 532/532 [00:08<00:00, 65.95it/s]\n",
            "100%|██████████| 133/133 [00:01<00:00, 96.23it/s]\n",
            "100%|██████████| 532/532 [00:06<00:00, 79.44it/s]\n",
            "100%|██████████| 532/532 [00:08<00:00, 64.95it/s]\n",
            "100%|██████████| 532/532 [00:07<00:00, 75.71it/s]\n",
            "100%|██████████| 532/532 [00:07<00:00, 66.54it/s]\n",
            "100%|██████████| 532/532 [00:07<00:00, 68.76it/s]\n",
            "100%|██████████| 133/133 [00:01<00:00, 70.38it/s]\n",
            "100%|██████████| 532/532 [00:06<00:00, 79.74it/s]\n",
            "100%|██████████| 532/532 [00:08<00:00, 65.45it/s]\n",
            "100%|██████████| 532/532 [00:06<00:00, 78.22it/s]\n",
            "100%|██████████| 532/532 [00:08<00:00, 64.96it/s]\n",
            "100%|██████████| 532/532 [00:12<00:00, 41.62it/s]\n",
            "100%|██████████| 133/133 [00:01<00:00, 95.69it/s]\n",
            "100%|██████████| 532/532 [00:11<00:00, 44.39it/s]\n",
            "100%|██████████| 532/532 [00:06<00:00, 77.34it/s]\n",
            "100%|██████████| 532/532 [00:08<00:00, 63.77it/s]\n",
            "100%|██████████| 532/532 [00:06<00:00, 78.21it/s]\n",
            "100%|██████████| 532/532 [00:08<00:00, 65.25it/s]\n",
            "100%|██████████| 133/133 [00:01<00:00, 96.15it/s]\n",
            "100%|██████████| 532/532 [00:07<00:00, 71.64it/s]\n",
            "100%|██████████| 532/532 [00:07<00:00, 69.22it/s]\n",
            "100%|██████████| 532/532 [00:08<00:00, 64.44it/s]\n",
            "100%|██████████| 532/532 [00:06<00:00, 77.72it/s]\n",
            "100%|██████████| 532/532 [00:13<00:00, 39.74it/s]\n",
            "100%|██████████| 133/133 [00:03<00:00, 37.26it/s]\n",
            "100%|██████████| 532/532 [00:08<00:00, 65.13it/s]\n",
            "100%|██████████| 532/532 [00:12<00:00, 43.77it/s]\n",
            "100%|██████████| 532/532 [00:11<00:00, 44.61it/s]\n",
            "100%|██████████| 532/532 [00:10<00:00, 49.98it/s]\n",
            "100%|██████████| 532/532 [00:17<00:00, 30.10it/s]\n",
            "100%|██████████| 133/133 [00:02<00:00, 60.89it/s]\n",
            "100%|██████████| 532/532 [00:09<00:00, 57.81it/s]\n",
            "100%|██████████| 532/532 [00:11<00:00, 45.23it/s]\n",
            "100%|██████████| 532/532 [00:08<00:00, 64.77it/s]\n",
            "100%|██████████| 532/532 [00:06<00:00, 77.36it/s]\n",
            "100%|██████████| 532/532 [00:08<00:00, 64.40it/s]\n",
            "100%|██████████| 133/133 [00:01<00:00, 94.78it/s]\n",
            "100%|██████████| 532/532 [00:09<00:00, 53.53it/s]\n",
            "100%|██████████| 532/532 [00:06<00:00, 78.68it/s]\n",
            "100%|██████████| 532/532 [00:08<00:00, 64.43it/s]\n",
            "100%|██████████| 532/532 [00:06<00:00, 79.27it/s]\n",
            "100%|██████████| 532/532 [00:08<00:00, 60.24it/s]\n",
            "100%|██████████| 133/133 [00:01<00:00, 94.55it/s]\n",
            "100%|██████████| 532/532 [00:08<00:00, 65.51it/s]\n",
            "100%|██████████| 532/532 [00:06<00:00, 76.34it/s]\n",
            "100%|██████████| 532/532 [00:08<00:00, 64.49it/s]\n",
            "100%|██████████| 532/532 [00:06<00:00, 78.69it/s]\n",
            "100%|██████████| 532/532 [00:08<00:00, 64.23it/s]\n",
            "100%|██████████| 133/133 [00:01<00:00, 95.42it/s]\n",
            "100%|██████████| 532/532 [00:07<00:00, 71.25it/s]\n",
            "100%|██████████| 532/532 [00:07<00:00, 68.01it/s]\n",
            "100%|██████████| 532/532 [00:07<00:00, 67.10it/s]\n",
            "100%|██████████| 532/532 [00:06<00:00, 76.19it/s]\n",
            "100%|██████████| 532/532 [00:08<00:00, 64.90it/s]\n",
            "100%|██████████| 133/133 [00:01<00:00, 97.20it/s]\n",
            "100%|██████████| 532/532 [00:06<00:00, 77.83it/s]\n",
            "100%|██████████| 532/532 [00:08<00:00, 64.72it/s]\n",
            "100%|██████████| 532/532 [00:06<00:00, 76.89it/s]\n",
            "100%|██████████| 532/532 [00:08<00:00, 61.40it/s]\n",
            "100%|██████████| 532/532 [00:07<00:00, 68.14it/s]\n",
            "100%|██████████| 133/133 [00:01<00:00, 78.23it/s]\n",
            "100%|██████████| 532/532 [00:06<00:00, 78.76it/s]\n",
            "100%|██████████| 532/532 [00:08<00:00, 64.19it/s]\n",
            "100%|██████████| 532/532 [00:06<00:00, 78.50it/s]\n",
            "100%|██████████| 532/532 [00:08<00:00, 65.16it/s]\n",
            "100%|██████████| 532/532 [00:06<00:00, 77.84it/s]\n",
            "100%|██████████| 133/133 [00:02<00:00, 60.61it/s]\n",
            "100%|██████████| 532/532 [00:07<00:00, 73.00it/s]\n",
            "100%|██████████| 532/532 [00:12<00:00, 42.65it/s]\n",
            "100%|██████████| 532/532 [00:10<00:00, 51.61it/s]\n",
            "100%|██████████| 532/532 [00:06<00:00, 78.22it/s]\n",
            "100%|██████████| 532/532 [00:08<00:00, 64.92it/s]\n",
            "100%|██████████| 133/133 [00:01<00:00, 97.65it/s]\n",
            "100%|██████████| 532/532 [00:06<00:00, 77.56it/s]\n",
            "100%|██████████| 532/532 [00:08<00:00, 65.68it/s]\n",
            "100%|██████████| 532/532 [00:07<00:00, 69.21it/s]\n",
            "100%|██████████| 532/532 [00:07<00:00, 72.48it/s]\n",
            "100%|██████████| 532/532 [00:08<00:00, 65.43it/s]\n",
            "100%|██████████| 133/133 [00:01<00:00, 97.11it/s]\n",
            "100%|██████████| 532/532 [00:06<00:00, 79.36it/s]\n",
            "100%|██████████| 532/532 [00:08<00:00, 64.51it/s]\n",
            "100%|██████████| 532/532 [00:06<00:00, 78.20it/s]\n",
            "100%|██████████| 532/532 [00:08<00:00, 64.69it/s]\n",
            "100%|██████████| 532/532 [00:07<00:00, 73.24it/s]\n",
            "100%|██████████| 133/133 [00:02<00:00, 57.56it/s]\n",
            "100%|██████████| 532/532 [00:07<00:00, 72.59it/s]\n",
            "100%|██████████| 532/532 [00:08<00:00, 65.02it/s]\n",
            "100%|██████████| 532/532 [00:06<00:00, 78.49it/s]\n",
            "100%|██████████| 532/532 [00:08<00:00, 64.74it/s]\n",
            "100%|██████████| 532/532 [00:06<00:00, 79.13it/s]\n",
            "100%|██████████| 133/133 [00:02<00:00, 64.54it/s]\n",
            "100%|██████████| 532/532 [00:07<00:00, 71.62it/s]\n",
            "100%|██████████| 532/532 [00:08<00:00, 66.02it/s]\n",
            "100%|██████████| 532/532 [00:06<00:00, 78.22it/s]\n",
            "100%|██████████| 532/532 [00:08<00:00, 64.44it/s]\n",
            "100%|██████████| 532/532 [00:06<00:00, 77.76it/s]\n",
            "100%|██████████| 133/133 [00:01<00:00, 94.34it/s]\n",
            "100%|██████████| 532/532 [00:08<00:00, 65.29it/s]\n",
            "100%|██████████| 532/532 [00:07<00:00, 75.45it/s]\n",
            "100%|██████████| 532/532 [00:07<00:00, 67.67it/s]\n",
            "100%|██████████| 532/532 [00:07<00:00, 67.20it/s]\n",
            "100%|██████████| 532/532 [00:07<00:00, 74.54it/s]\n",
            "100%|██████████| 133/133 [00:01<00:00, 94.58it/s]\n",
            "100%|██████████| 532/532 [00:08<00:00, 65.00it/s]\n",
            "100%|██████████| 532/532 [00:06<00:00, 79.33it/s]\n",
            "100%|██████████| 532/532 [00:08<00:00, 65.32it/s]\n",
            "100%|██████████| 532/532 [00:06<00:00, 76.55it/s]\n",
            "100%|██████████| 532/532 [00:07<00:00, 66.51it/s]\n",
            "100%|██████████| 133/133 [00:01<00:00, 97.63it/s]\n",
            "100%|██████████| 532/532 [00:08<00:00, 64.78it/s]\n",
            "100%|██████████| 532/532 [00:06<00:00, 78.68it/s]\n",
            "100%|██████████| 532/532 [00:08<00:00, 65.18it/s]\n",
            "100%|██████████| 532/532 [00:06<00:00, 78.84it/s]\n",
            "100%|██████████| 532/532 [00:08<00:00, 64.80it/s]\n",
            "100%|██████████| 133/133 [00:01<00:00, 96.93it/s]\n",
            "100%|██████████| 532/532 [00:07<00:00, 71.63it/s]\n",
            "100%|██████████| 532/532 [00:07<00:00, 70.16it/s]\n",
            "100%|██████████| 532/532 [00:08<00:00, 64.97it/s]\n",
            "100%|██████████| 532/532 [00:06<00:00, 78.95it/s]\n",
            "100%|██████████| 532/532 [00:08<00:00, 65.44it/s]\n",
            "100%|██████████| 133/133 [00:01<00:00, 94.67it/s]\n",
            "100%|██████████| 532/532 [00:06<00:00, 77.89it/s]\n",
            "100%|██████████| 532/532 [00:08<00:00, 64.72it/s]\n",
            "100%|██████████| 532/532 [00:07<00:00, 74.81it/s]\n",
            "100%|██████████| 532/532 [00:07<00:00, 68.37it/s]\n",
            "100%|██████████| 532/532 [00:07<00:00, 68.52it/s]\n",
            "100%|██████████| 133/133 [00:01<00:00, 74.09it/s]\n",
            "/usr/local/lib/python3.10/dist-packages/sklearn/metrics/_classification.py:1344: UndefinedMetricWarning: Precision is ill-defined and being set to 0.0 due to no predicted samples. Use `zero_division` parameter to control this behavior.\n",
            "  _warn_prf(average, modifier, msg_start, len(result))\n",
            "100%|██████████| 532/532 [00:06<00:00, 77.70it/s]\n",
            "100%|██████████| 532/532 [00:08<00:00, 65.18it/s]\n",
            "100%|██████████| 532/532 [00:06<00:00, 77.80it/s]\n",
            "100%|██████████| 532/532 [00:08<00:00, 65.02it/s]\n",
            "100%|██████████| 532/532 [00:06<00:00, 77.18it/s]\n",
            "100%|██████████| 133/133 [00:02<00:00, 62.67it/s]\n",
            "100%|██████████| 532/532 [00:07<00:00, 73.15it/s]\n",
            "100%|██████████| 532/532 [00:08<00:00, 64.17it/s]\n",
            "100%|██████████| 532/532 [00:06<00:00, 77.33it/s]\n",
            "100%|██████████| 532/532 [00:08<00:00, 65.10it/s]\n",
            "100%|██████████| 532/532 [00:06<00:00, 77.78it/s]\n",
            "100%|██████████| 133/133 [00:01<00:00, 92.93it/s]\n",
            "100%|██████████| 532/532 [00:08<00:00, 65.60it/s]\n",
            "100%|██████████| 532/532 [00:07<00:00, 68.96it/s]\n",
            "100%|██████████| 532/532 [00:07<00:00, 70.97it/s]\n",
            "100%|██████████| 532/532 [00:08<00:00, 63.93it/s]\n",
            "100%|██████████| 532/532 [00:06<00:00, 77.88it/s]\n",
            "100%|██████████| 133/133 [00:01<00:00, 96.50it/s]\n",
            "100%|██████████| 532/532 [00:08<00:00, 64.87it/s]\n",
            "100%|██████████| 532/532 [00:06<00:00, 78.00it/s]\n",
            "100%|██████████| 532/532 [00:08<00:00, 64.64it/s]\n",
            "100%|██████████| 532/532 [00:07<00:00, 69.81it/s]\n",
            "100%|██████████| 532/532 [00:07<00:00, 70.23it/s]\n",
            "100%|██████████| 133/133 [00:01<00:00, 96.56it/s]\n",
            "100%|██████████| 532/532 [00:08<00:00, 64.40it/s]\n",
            "100%|██████████| 532/532 [00:06<00:00, 78.16it/s]\n",
            "100%|██████████| 532/532 [00:08<00:00, 64.85it/s]\n",
            "100%|██████████| 532/532 [00:06<00:00, 77.72it/s]\n",
            "100%|██████████| 532/532 [00:08<00:00, 63.56it/s]\n",
            "100%|██████████| 133/133 [00:01<00:00, 94.79it/s]\n",
            "100%|██████████| 532/532 [00:08<00:00, 64.62it/s]\n",
            "100%|██████████| 532/532 [00:06<00:00, 77.97it/s]\n",
            "100%|██████████| 532/532 [00:08<00:00, 65.02it/s]\n",
            "100%|██████████| 532/532 [00:06<00:00, 77.76it/s]\n",
            "100%|██████████| 532/532 [00:08<00:00, 60.93it/s]\n",
            "100%|██████████| 133/133 [00:02<00:00, 56.45it/s]\n",
            "100%|██████████| 532/532 [00:08<00:00, 64.84it/s]\n",
            "100%|██████████| 532/532 [00:06<00:00, 79.17it/s]\n",
            "100%|██████████| 532/532 [00:08<00:00, 65.28it/s]\n",
            "100%|██████████| 532/532 [00:06<00:00, 77.99it/s]\n",
            "100%|██████████| 532/532 [00:08<00:00, 64.03it/s]\n",
            "100%|██████████| 133/133 [00:01<00:00, 97.02it/s]\n",
            "100%|██████████| 532/532 [00:07<00:00, 71.99it/s]\n",
            "100%|██████████| 532/532 [00:07<00:00, 68.96it/s]\n",
            "100%|██████████| 532/532 [00:08<00:00, 64.37it/s]\n",
            "100%|██████████| 532/532 [00:06<00:00, 77.55it/s]\n",
            "100%|██████████| 532/532 [00:08<00:00, 63.95it/s]\n",
            "100%|██████████| 133/133 [00:01<00:00, 93.47it/s]\n",
            "100%|██████████| 532/532 [00:06<00:00, 77.02it/s]\n",
            "100%|██████████| 532/532 [00:08<00:00, 64.79it/s]\n",
            "100%|██████████| 532/532 [00:07<00:00, 73.05it/s]\n",
            "100%|██████████| 532/532 [00:07<00:00, 69.56it/s]\n",
            "100%|██████████| 532/532 [00:08<00:00, 64.95it/s]\n",
            "100%|██████████| 133/133 [00:01<00:00, 89.93it/s]\n",
            "100%|██████████| 532/532 [00:06<00:00, 77.10it/s]\n",
            "100%|██████████| 532/532 [00:08<00:00, 65.04it/s]\n",
            "100%|██████████| 532/532 [00:06<00:00, 77.74it/s]\n",
            "100%|██████████| 532/532 [00:08<00:00, 64.13it/s]\n",
            "100%|██████████| 532/532 [00:07<00:00, 73.69it/s]\n",
            "100%|██████████| 133/133 [00:02<00:00, 57.85it/s]\n",
            "100%|██████████| 532/532 [00:06<00:00, 76.32it/s]\n",
            "100%|██████████| 532/532 [00:08<00:00, 64.26it/s]\n",
            "100%|██████████| 532/532 [00:06<00:00, 77.85it/s]\n",
            "100%|██████████| 532/532 [00:08<00:00, 64.11it/s]\n",
            "100%|██████████| 532/532 [00:06<00:00, 77.57it/s]\n",
            "100%|██████████| 133/133 [00:01<00:00, 75.64it/s]\n",
            "100%|██████████| 532/532 [00:07<00:00, 67.28it/s]\n",
            "100%|██████████| 532/532 [00:08<00:00, 62.75it/s]\n",
            "100%|██████████| 532/532 [00:06<00:00, 76.93it/s]\n",
            "100%|██████████| 532/532 [00:08<00:00, 64.06it/s]\n",
            "100%|██████████| 532/532 [00:07<00:00, 75.91it/s]\n",
            "100%|██████████| 133/133 [00:01<00:00, 97.92it/s]\n",
            "100%|██████████| 532/532 [00:08<00:00, 63.55it/s]\n",
            "100%|██████████| 532/532 [00:07<00:00, 69.36it/s]\n",
            "100%|██████████| 532/532 [00:07<00:00, 69.59it/s]\n",
            "100%|██████████| 532/532 [00:08<00:00, 62.35it/s]\n",
            "100%|██████████| 532/532 [00:06<00:00, 77.33it/s]\n",
            "100%|██████████| 133/133 [00:01<00:00, 93.55it/s]\n",
            "100%|██████████| 532/532 [00:08<00:00, 62.95it/s]\n",
            "100%|██████████| 532/532 [00:07<00:00, 71.82it/s]\n",
            "100%|██████████| 532/532 [00:08<00:00, 65.87it/s]\n",
            "100%|██████████| 532/532 [00:08<00:00, 64.09it/s]\n",
            "100%|██████████| 532/532 [00:06<00:00, 77.07it/s]\n",
            "100%|██████████| 133/133 [00:01<00:00, 96.48it/s]\n",
            "100%|██████████| 532/532 [00:08<00:00, 63.60it/s]\n",
            "100%|██████████| 532/532 [00:06<00:00, 76.14it/s]\n",
            "100%|██████████| 532/532 [00:08<00:00, 63.40it/s]\n",
            "100%|██████████| 532/532 [00:07<00:00, 70.00it/s]\n",
            "100%|██████████| 532/532 [00:07<00:00, 68.96it/s]\n",
            "100%|██████████| 133/133 [00:01<00:00, 96.16it/s]\n",
            "/usr/local/lib/python3.10/dist-packages/sklearn/metrics/_classification.py:1344: UndefinedMetricWarning: Precision is ill-defined and being set to 0.0 due to no predicted samples. Use `zero_division` parameter to control this behavior.\n",
            "  _warn_prf(average, modifier, msg_start, len(result))\n",
            "100%|██████████| 532/532 [00:08<00:00, 63.50it/s]\n",
            "100%|██████████| 532/532 [00:06<00:00, 77.49it/s]\n",
            "100%|██████████| 532/532 [00:08<00:00, 64.41it/s]\n",
            "100%|██████████| 532/532 [00:07<00:00, 74.99it/s]\n",
            "100%|██████████| 532/532 [00:08<00:00, 64.11it/s]\n",
            "100%|██████████| 133/133 [00:01<00:00, 95.72it/s]\n",
            "100%|██████████| 532/532 [00:08<00:00, 64.60it/s]\n",
            "100%|██████████| 532/532 [00:07<00:00, 75.74it/s]\n",
            "100%|██████████| 532/532 [00:08<00:00, 64.07it/s]\n",
            "100%|██████████| 532/532 [00:06<00:00, 76.95it/s]\n",
            "100%|██████████| 532/532 [00:08<00:00, 63.15it/s]\n",
            "100%|██████████| 133/133 [00:01<00:00, 95.19it/s]\n",
            "100%|██████████| 532/532 [00:08<00:00, 65.12it/s]\n",
            "100%|██████████| 532/532 [00:07<00:00, 73.67it/s]\n",
            "100%|██████████| 532/532 [00:08<00:00, 64.28it/s]\n",
            "100%|██████████| 532/532 [00:06<00:00, 76.75it/s]\n",
            "100%|██████████| 532/532 [00:08<00:00, 63.84it/s]\n",
            "100%|██████████| 133/133 [00:01<00:00, 93.74it/s]\n",
            "100%|██████████| 532/532 [00:07<00:00, 71.16it/s]\n",
            "100%|██████████| 532/532 [00:07<00:00, 67.51it/s]\n",
            "100%|██████████| 532/532 [00:08<00:00, 62.71it/s]\n",
            "100%|██████████| 532/532 [00:06<00:00, 76.88it/s]\n",
            "100%|██████████| 532/532 [00:08<00:00, 63.99it/s]\n",
            "100%|██████████| 133/133 [00:01<00:00, 93.82it/s]\n",
            "100%|██████████| 532/532 [00:06<00:00, 77.32it/s]\n",
            "100%|██████████| 532/532 [00:08<00:00, 62.65it/s]\n",
            "100%|██████████| 532/532 [00:07<00:00, 66.53it/s]\n",
            "100%|██████████| 532/532 [00:07<00:00, 70.42it/s]\n",
            "100%|██████████| 532/532 [00:08<00:00, 63.65it/s]\n",
            "100%|██████████| 133/133 [00:01<00:00, 96.37it/s]\n",
            "100%|██████████| 532/532 [00:07<00:00, 75.77it/s]\n",
            "100%|██████████| 532/532 [00:08<00:00, 63.25it/s]\n",
            "100%|██████████| 532/532 [00:07<00:00, 70.27it/s]\n",
            "100%|██████████| 532/532 [00:08<00:00, 66.42it/s]\n",
            "100%|██████████| 532/532 [00:08<00:00, 63.88it/s]\n",
            "100%|██████████| 133/133 [00:01<00:00, 93.91it/s]\n",
            "100%|██████████| 532/532 [00:06<00:00, 78.16it/s]\n",
            "100%|██████████| 532/532 [00:08<00:00, 64.38it/s]\n",
            "100%|██████████| 532/532 [00:07<00:00, 75.44it/s]\n",
            "100%|██████████| 532/532 [00:08<00:00, 64.58it/s]\n",
            "100%|██████████| 532/532 [00:07<00:00, 70.06it/s]\n",
            "100%|██████████| 133/133 [00:02<00:00, 64.46it/s]\n",
            "100%|██████████| 532/532 [00:06<00:00, 77.70it/s]\n",
            "100%|██████████| 532/532 [00:08<00:00, 64.45it/s]\n",
            "100%|██████████| 532/532 [00:06<00:00, 77.74it/s]\n",
            "100%|██████████| 532/532 [00:08<00:00, 64.30it/s]\n",
            "100%|██████████| 532/532 [00:07<00:00, 75.99it/s]\n",
            "100%|██████████| 133/133 [00:02<00:00, 60.73it/s]\n",
            "100%|██████████| 532/532 [00:07<00:00, 71.30it/s]\n",
            "100%|██████████| 532/532 [00:08<00:00, 64.74it/s]\n",
            "100%|██████████| 532/532 [00:06<00:00, 77.90it/s]\n",
            "100%|██████████| 532/532 [00:08<00:00, 64.09it/s]\n",
            "100%|██████████| 532/532 [00:06<00:00, 77.24it/s]\n",
            "100%|██████████| 133/133 [00:01<00:00, 91.77it/s]\n",
            "100%|██████████| 532/532 [00:08<00:00, 65.02it/s]\n",
            "100%|██████████| 532/532 [00:07<00:00, 71.25it/s]\n",
            "100%|██████████| 532/532 [00:07<00:00, 70.87it/s]\n",
            "100%|██████████| 532/532 [00:08<00:00, 63.44it/s]\n",
            "100%|██████████| 532/532 [00:06<00:00, 77.22it/s]\n",
            "100%|██████████| 133/133 [00:01<00:00, 95.26it/s]\n",
            "100%|██████████| 532/532 [00:08<00:00, 62.96it/s]\n",
            "100%|██████████| 532/532 [00:06<00:00, 77.99it/s]\n",
            "100%|██████████| 532/532 [00:08<00:00, 64.76it/s]\n",
            "100%|██████████| 532/532 [00:07<00:00, 70.96it/s]\n",
            "100%|██████████| 532/532 [00:07<00:00, 69.86it/s]\n",
            "100%|██████████| 133/133 [00:01<00:00, 93.01it/s]\n",
            "100%|██████████| 532/532 [00:08<00:00, 64.04it/s]\n",
            "100%|██████████| 532/532 [00:06<00:00, 76.75it/s]\n",
            "100%|██████████| 532/532 [00:08<00:00, 64.72it/s]\n",
            "100%|██████████| 532/532 [00:06<00:00, 77.85it/s]\n",
            "100%|██████████| 532/532 [00:08<00:00, 64.23it/s]\n",
            "100%|██████████| 133/133 [00:01<00:00, 95.31it/s]\n",
            "100%|██████████| 532/532 [00:08<00:00, 63.75it/s]\n",
            "100%|██████████| 532/532 [00:06<00:00, 77.73it/s]\n",
            "100%|██████████| 532/532 [00:08<00:00, 64.44it/s]\n",
            "100%|██████████| 532/532 [00:06<00:00, 78.36it/s]\n",
            "100%|██████████| 532/532 [00:08<00:00, 64.51it/s]\n",
            "100%|██████████| 133/133 [00:01<00:00, 96.56it/s]\n",
            "100%|██████████| 532/532 [00:07<00:00, 69.72it/s]\n",
            "100%|██████████| 532/532 [00:07<00:00, 69.95it/s]\n",
            "100%|██████████| 532/532 [00:08<00:00, 64.19it/s]\n",
            "100%|██████████| 532/532 [00:06<00:00, 77.36it/s]\n",
            "100%|██████████| 532/532 [00:08<00:00, 64.51it/s]\n",
            "100%|██████████| 133/133 [00:01<00:00, 95.94it/s]\n",
            "100%|██████████| 532/532 [00:06<00:00, 77.06it/s]\n",
            "100%|██████████| 532/532 [00:08<00:00, 64.32it/s]\n",
            "100%|██████████| 532/532 [00:07<00:00, 71.22it/s]\n",
            "100%|██████████| 532/532 [00:07<00:00, 69.23it/s]\n",
            "100%|██████████| 532/532 [00:08<00:00, 64.06it/s]\n",
            "100%|██████████| 133/133 [00:01<00:00, 94.65it/s]\n",
            "100%|██████████| 532/532 [00:06<00:00, 78.48it/s]\n",
            "100%|██████████| 532/532 [00:08<00:00, 63.84it/s]\n",
            "100%|██████████| 532/532 [00:06<00:00, 76.51it/s]\n",
            "100%|██████████| 532/532 [00:08<00:00, 64.25it/s]\n",
            "100%|██████████| 532/532 [00:07<00:00, 72.20it/s]\n",
            "100%|██████████| 133/133 [00:02<00:00, 57.94it/s]\n",
            "100%|██████████| 532/532 [00:06<00:00, 77.38it/s]\n",
            "100%|██████████| 532/532 [00:08<00:00, 64.01it/s]\n",
            "100%|██████████| 532/532 [00:06<00:00, 76.39it/s]\n",
            "100%|██████████| 532/532 [00:08<00:00, 64.10it/s]\n",
            "100%|██████████| 532/532 [00:07<00:00, 70.68it/s]\n",
            "100%|██████████| 133/133 [00:02<00:00, 49.92it/s]\n",
            "100%|██████████| 532/532 [00:08<00:00, 66.46it/s]\n",
            "100%|██████████| 532/532 [00:08<00:00, 64.34it/s]\n",
            "100%|██████████| 532/532 [00:06<00:00, 76.58it/s]\n",
            "100%|██████████| 532/532 [00:08<00:00, 63.85it/s]\n",
            "100%|██████████| 532/532 [00:06<00:00, 77.34it/s]\n",
            "100%|██████████| 133/133 [00:01<00:00, 95.05it/s]\n",
            "100%|██████████| 532/532 [00:08<00:00, 64.23it/s]\n",
            "100%|██████████| 532/532 [00:07<00:00, 70.98it/s]\n",
            "100%|██████████| 532/532 [00:07<00:00, 69.59it/s]\n",
            "100%|██████████| 532/532 [00:08<00:00, 63.24it/s]\n",
            "100%|██████████| 532/532 [00:06<00:00, 76.94it/s]\n",
            "100%|██████████| 133/133 [00:01<00:00, 94.95it/s]\n",
            "100%|██████████| 532/532 [00:08<00:00, 64.65it/s]\n",
            "100%|██████████| 532/532 [00:06<00:00, 77.45it/s]\n",
            "100%|██████████| 532/532 [00:08<00:00, 64.56it/s]\n",
            "100%|██████████| 532/532 [00:07<00:00, 72.33it/s]\n",
            "100%|██████████| 532/532 [00:07<00:00, 68.13it/s]\n",
            "100%|██████████| 133/133 [00:01<00:00, 95.00it/s]\n",
            "100%|██████████| 532/532 [00:08<00:00, 64.05it/s]\n",
            "100%|██████████| 532/532 [00:06<00:00, 77.14it/s]\n",
            "100%|██████████| 532/532 [00:08<00:00, 64.99it/s]\n",
            "100%|██████████| 532/532 [00:06<00:00, 77.15it/s]\n",
            "100%|██████████| 532/532 [00:08<00:00, 63.65it/s]\n",
            "100%|██████████| 133/133 [00:01<00:00, 93.77it/s]\n",
            "100%|██████████| 532/532 [00:08<00:00, 64.20it/s]\n",
            "100%|██████████| 532/532 [00:06<00:00, 78.28it/s]\n",
            "100%|██████████| 532/532 [00:08<00:00, 64.28it/s]\n",
            "100%|██████████| 532/532 [00:06<00:00, 76.79it/s]\n",
            "100%|██████████| 532/532 [00:08<00:00, 63.55it/s]\n",
            "100%|██████████| 133/133 [00:01<00:00, 94.07it/s]\n",
            "100%|██████████| 532/532 [00:07<00:00, 69.69it/s]\n",
            "100%|██████████| 532/532 [00:07<00:00, 70.30it/s]\n",
            "100%|██████████| 532/532 [00:08<00:00, 64.45it/s]\n",
            "100%|██████████| 532/532 [00:06<00:00, 77.08it/s]\n",
            "100%|██████████| 532/532 [00:08<00:00, 64.06it/s]\n",
            "100%|██████████| 133/133 [00:01<00:00, 93.97it/s]\n",
            "100%|██████████| 532/532 [00:07<00:00, 75.64it/s]\n",
            "100%|██████████| 532/532 [00:08<00:00, 63.93it/s]\n",
            "100%|██████████| 532/532 [00:07<00:00, 70.77it/s]\n",
            "100%|██████████| 532/532 [00:07<00:00, 69.15it/s]\n",
            "100%|██████████| 532/532 [00:08<00:00, 63.72it/s]\n",
            "100%|██████████| 133/133 [00:01<00:00, 93.80it/s]\n",
            "100%|██████████| 532/532 [00:06<00:00, 76.93it/s]\n",
            "100%|██████████| 532/532 [00:08<00:00, 63.23it/s]\n",
            "100%|██████████| 532/532 [00:06<00:00, 77.02it/s]\n",
            "100%|██████████| 532/532 [00:08<00:00, 63.96it/s]\n",
            "100%|██████████| 532/532 [00:07<00:00, 71.61it/s]\n",
            "100%|██████████| 133/133 [00:02<00:00, 59.14it/s]\n",
            "100%|██████████| 532/532 [00:06<00:00, 77.18it/s]\n",
            "100%|██████████| 532/532 [00:08<00:00, 63.78it/s]\n",
            "100%|██████████| 532/532 [00:06<00:00, 76.81it/s]\n",
            "100%|██████████| 532/532 [00:08<00:00, 63.15it/s]\n",
            "100%|██████████| 532/532 [00:07<00:00, 75.58it/s]\n",
            "100%|██████████| 133/133 [00:02<00:00, 60.23it/s]\n",
            "100%|██████████| 532/532 [00:07<00:00, 69.98it/s]\n",
            "100%|██████████| 532/532 [00:08<00:00, 63.06it/s]\n",
            "100%|██████████| 532/532 [00:07<00:00, 75.64it/s]\n",
            "100%|██████████| 532/532 [00:08<00:00, 63.22it/s]\n",
            "100%|██████████| 532/532 [00:06<00:00, 76.51it/s]\n",
            "100%|██████████| 133/133 [00:01<00:00, 75.34it/s]\n",
            "100%|██████████| 532/532 [00:07<00:00, 66.84it/s]\n",
            "100%|██████████| 532/532 [00:08<00:00, 64.67it/s]\n",
            "100%|██████████| 532/532 [00:07<00:00, 73.61it/s]\n",
            "100%|██████████| 532/532 [00:08<00:00, 62.93it/s]\n",
            "100%|██████████| 532/532 [00:06<00:00, 76.55it/s]\n",
            "100%|██████████| 133/133 [00:01<00:00, 93.82it/s]\n",
            "100%|██████████| 532/532 [00:08<00:00, 62.76it/s]\n",
            "100%|██████████| 532/532 [00:07<00:00, 71.43it/s]\n",
            "100%|██████████| 532/532 [00:07<00:00, 67.66it/s]\n",
            "100%|██████████| 532/532 [00:08<00:00, 62.43it/s]\n",
            "100%|██████████| 532/532 [00:06<00:00, 76.49it/s]\n",
            "100%|██████████| 133/133 [00:01<00:00, 93.64it/s]\n",
            "100%|██████████| 532/532 [00:08<00:00, 63.85it/s]\n",
            "100%|██████████| 532/532 [00:06<00:00, 77.28it/s]\n",
            "100%|██████████| 532/532 [00:08<00:00, 63.35it/s]\n",
            "100%|██████████| 532/532 [00:07<00:00, 68.88it/s]\n",
            "100%|██████████| 532/532 [00:07<00:00, 69.62it/s]\n",
            "100%|██████████| 133/133 [00:01<00:00, 94.93it/s]\n",
            "100%|██████████| 532/532 [00:08<00:00, 63.94it/s]\n",
            "100%|██████████| 532/532 [00:06<00:00, 76.77it/s]\n",
            "100%|██████████| 532/532 [00:08<00:00, 63.34it/s]\n",
            "100%|██████████| 532/532 [00:07<00:00, 75.90it/s]\n",
            "100%|██████████| 532/532 [00:08<00:00, 63.56it/s]\n",
            "100%|██████████| 133/133 [00:01<00:00, 93.01it/s]\n",
            "100%|██████████| 532/532 [00:08<00:00, 63.31it/s]\n",
            "100%|██████████| 532/532 [00:06<00:00, 76.49it/s]\n",
            "100%|██████████| 532/532 [00:08<00:00, 63.10it/s]\n",
            "100%|██████████| 532/532 [00:07<00:00, 75.41it/s]\n",
            "100%|██████████| 532/532 [00:08<00:00, 63.06it/s]\n",
            "100%|██████████| 133/133 [00:01<00:00, 94.41it/s]\n",
            "100%|██████████| 532/532 [00:08<00:00, 64.58it/s]\n",
            "100%|██████████| 532/532 [00:07<00:00, 73.53it/s]\n",
            "100%|██████████| 532/532 [00:08<00:00, 63.98it/s]\n",
            "100%|██████████| 532/532 [00:07<00:00, 75.90it/s]\n",
            "100%|██████████| 532/532 [00:08<00:00, 63.69it/s]\n",
            "100%|██████████| 133/133 [00:01<00:00, 94.18it/s]\n",
            "100%|██████████| 532/532 [00:07<00:00, 71.64it/s]\n",
            "100%|██████████| 532/532 [00:07<00:00, 68.12it/s]\n",
            "100%|██████████| 532/532 [00:08<00:00, 64.86it/s]\n",
            "100%|██████████| 532/532 [00:07<00:00, 75.27it/s]\n",
            "100%|██████████| 532/532 [00:08<00:00, 62.85it/s]\n",
            "100%|██████████| 133/133 [00:01<00:00, 94.05it/s]\n",
            "100%|██████████| 532/532 [00:07<00:00, 75.28it/s]\n",
            "100%|██████████| 532/532 [00:08<00:00, 62.93it/s]\n",
            "100%|██████████| 532/532 [00:07<00:00, 69.56it/s]\n",
            "100%|██████████| 532/532 [00:07<00:00, 69.03it/s]\n",
            "100%|██████████| 532/532 [00:08<00:00, 63.48it/s]\n",
            "100%|██████████| 133/133 [00:01<00:00, 92.97it/s]\n",
            "100%|██████████| 532/532 [00:07<00:00, 75.91it/s]\n",
            "100%|██████████| 532/532 [00:08<00:00, 63.76it/s]\n",
            "100%|██████████| 532/532 [00:06<00:00, 76.19it/s]\n",
            "100%|██████████| 532/532 [00:08<00:00, 64.31it/s]\n",
            "100%|██████████| 532/532 [00:07<00:00, 70.33it/s]\n",
            "100%|██████████| 133/133 [00:02<00:00, 59.77it/s]\n",
            "100%|██████████| 532/532 [00:07<00:00, 75.90it/s]\n",
            "100%|██████████| 532/532 [00:08<00:00, 63.02it/s]\n",
            "100%|██████████| 532/532 [00:06<00:00, 77.83it/s]\n",
            "100%|██████████| 532/532 [00:08<00:00, 63.58it/s]\n",
            "100%|██████████| 532/532 [00:06<00:00, 76.35it/s]\n",
            "100%|██████████| 133/133 [00:02<00:00, 61.16it/s]\n",
            "100%|██████████| 532/532 [00:07<00:00, 70.40it/s]\n",
            "100%|██████████| 532/532 [00:08<00:00, 63.00it/s]\n",
            "100%|██████████| 532/532 [00:06<00:00, 76.24it/s]\n",
            "100%|██████████| 532/532 [00:08<00:00, 63.49it/s]\n",
            "100%|██████████| 532/532 [00:06<00:00, 77.42it/s]\n",
            "100%|██████████| 133/133 [00:01<00:00, 79.27it/s]\n",
            "100%|██████████| 532/532 [00:08<00:00, 66.03it/s]\n",
            "100%|██████████| 532/532 [00:07<00:00, 66.79it/s]\n",
            "100%|██████████| 532/532 [00:07<00:00, 71.85it/s]\n",
            "100%|██████████| 532/532 [00:08<00:00, 63.52it/s]\n",
            "100%|██████████| 532/532 [00:06<00:00, 77.92it/s]\n",
            "100%|██████████| 133/133 [00:01<00:00, 94.16it/s]\n",
            "100%|██████████| 532/532 [00:08<00:00, 63.55it/s]\n",
            "100%|██████████| 532/532 [00:07<00:00, 73.65it/s]\n",
            "100%|██████████| 532/532 [00:08<00:00, 66.12it/s]\n",
            "100%|██████████| 532/532 [00:07<00:00, 66.91it/s]\n",
            "100%|██████████| 532/532 [00:07<00:00, 73.26it/s]\n",
            "100%|██████████| 133/133 [00:01<00:00, 94.58it/s]\n",
            "100%|██████████| 532/532 [00:08<00:00, 64.30it/s]\n",
            "100%|██████████| 532/532 [00:06<00:00, 76.90it/s]\n",
            "100%|██████████| 532/532 [00:08<00:00, 63.07it/s]\n",
            "100%|██████████| 532/532 [00:07<00:00, 73.96it/s]\n",
            "100%|██████████| 532/532 [00:08<00:00, 65.79it/s]\n",
            "100%|██████████| 133/133 [00:01<00:00, 94.88it/s]\n",
            "100%|██████████| 532/532 [00:08<00:00, 63.57it/s]\n",
            "100%|██████████| 532/532 [00:06<00:00, 77.56it/s]\n",
            "100%|██████████| 532/532 [00:08<00:00, 63.49it/s]\n",
            "100%|██████████| 532/532 [00:06<00:00, 76.87it/s]\n",
            "100%|██████████| 532/532 [00:08<00:00, 63.39it/s]\n",
            "100%|██████████| 133/133 [00:01<00:00, 94.04it/s]\n",
            "100%|██████████| 532/532 [00:08<00:00, 66.01it/s]\n",
            "100%|██████████| 532/532 [00:07<00:00, 74.09it/s]\n",
            "100%|██████████| 532/532 [00:08<00:00, 63.72it/s]\n",
            "100%|██████████| 532/532 [00:06<00:00, 76.40it/s]\n",
            "100%|██████████| 532/532 [00:09<00:00, 53.72it/s]\n",
            "100%|██████████| 133/133 [00:01<00:00, 95.07it/s]\n",
            "100%|██████████| 532/532 [00:07<00:00, 71.50it/s]\n",
            "100%|██████████| 532/532 [00:07<00:00, 68.57it/s]\n",
            "100%|██████████| 532/532 [00:08<00:00, 64.48it/s]\n",
            "100%|██████████| 532/532 [00:07<00:00, 74.45it/s]\n",
            "100%|██████████| 532/532 [00:08<00:00, 63.57it/s]\n",
            "100%|██████████| 133/133 [00:01<00:00, 94.83it/s]\n",
            "100%|██████████| 532/532 [00:06<00:00, 77.54it/s]\n",
            "100%|██████████| 532/532 [00:08<00:00, 63.85it/s]\n",
            "100%|██████████| 532/532 [00:07<00:00, 71.26it/s]\n",
            "100%|██████████| 532/532 [00:07<00:00, 68.48it/s]\n",
            "100%|██████████| 532/532 [00:08<00:00, 63.73it/s]\n",
            "100%|██████████| 133/133 [00:01<00:00, 91.26it/s]\n",
            "100%|██████████| 532/532 [00:06<00:00, 77.62it/s]\n",
            "100%|██████████| 532/532 [00:08<00:00, 62.44it/s]\n",
            "100%|██████████| 532/532 [00:07<00:00, 72.63it/s]\n",
            "100%|██████████| 532/532 [00:08<00:00, 59.66it/s]\n",
            "100%|██████████| 532/532 [00:08<00:00, 61.40it/s]\n",
            "100%|██████████| 133/133 [00:01<00:00, 74.59it/s]\n",
            "100%|██████████| 532/532 [00:07<00:00, 72.76it/s]\n",
            "100%|██████████| 532/532 [00:08<00:00, 62.94it/s]\n",
            "100%|██████████| 532/532 [00:06<00:00, 76.45it/s]\n",
            "100%|██████████| 532/532 [00:08<00:00, 63.72it/s]\n",
            "100%|██████████| 532/532 [00:07<00:00, 69.60it/s]\n",
            "100%|██████████| 133/133 [00:02<00:00, 59.21it/s]\n",
            "100%|██████████| 532/532 [00:06<00:00, 76.41it/s]\n",
            "100%|██████████| 532/532 [00:08<00:00, 63.10it/s]\n",
            "100%|██████████| 532/532 [00:06<00:00, 76.64it/s]\n",
            "100%|██████████| 532/532 [00:08<00:00, 63.71it/s]\n",
            "100%|██████████| 532/532 [00:07<00:00, 75.42it/s]\n",
            "100%|██████████| 133/133 [00:02<00:00, 59.49it/s]\n",
            "100%|██████████| 532/532 [00:07<00:00, 71.75it/s]\n",
            "100%|██████████| 532/532 [00:08<00:00, 64.32it/s]\n",
            "100%|██████████| 532/532 [00:06<00:00, 77.87it/s]\n",
            "100%|██████████| 532/532 [00:08<00:00, 64.07it/s]\n",
            "100%|██████████| 532/532 [00:06<00:00, 76.48it/s]\n",
            "100%|██████████| 133/133 [00:01<00:00, 93.58it/s]\n",
            "100%|██████████| 532/532 [00:08<00:00, 63.54it/s]\n",
            "100%|██████████| 532/532 [00:08<00:00, 66.22it/s]\n",
            "100%|██████████| 532/532 [00:07<00:00, 72.73it/s]\n",
            "100%|██████████| 532/532 [00:08<00:00, 63.18it/s]\n",
            "100%|██████████| 532/532 [00:06<00:00, 76.77it/s]\n",
            "100%|██████████| 133/133 [00:01<00:00, 93.97it/s]\n",
            "100%|██████████| 532/532 [00:08<00:00, 64.15it/s]\n",
            "100%|██████████| 532/532 [00:07<00:00, 73.00it/s]\n",
            "100%|██████████| 532/532 [00:07<00:00, 66.57it/s]\n",
            "100%|██████████| 532/532 [00:07<00:00, 68.13it/s]\n",
            "100%|██████████| 532/532 [00:07<00:00, 73.27it/s]\n",
            "100%|██████████| 133/133 [00:01<00:00, 93.47it/s]\n",
            "100%|██████████| 532/532 [00:08<00:00, 63.97it/s]\n",
            "100%|██████████| 532/532 [00:06<00:00, 77.03it/s]\n",
            "100%|██████████| 532/532 [00:08<00:00, 63.91it/s]\n",
            "100%|██████████| 532/532 [00:07<00:00, 75.72it/s]\n",
            "100%|██████████| 532/532 [00:08<00:00, 64.84it/s]\n",
            "100%|██████████| 133/133 [00:01<00:00, 93.39it/s]\n",
            "100%|██████████| 532/532 [00:08<00:00, 63.78it/s]\n",
            "100%|██████████| 532/532 [00:06<00:00, 76.23it/s]\n",
            "100%|██████████| 532/532 [00:08<00:00, 63.83it/s]\n",
            "100%|██████████| 532/532 [00:06<00:00, 77.39it/s]\n",
            "100%|██████████| 532/532 [00:08<00:00, 64.37it/s]\n",
            "100%|██████████| 133/133 [00:01<00:00, 94.30it/s]\n",
            "100%|██████████| 532/532 [00:07<00:00, 69.08it/s]\n",
            "100%|██████████| 532/532 [00:07<00:00, 69.36it/s]\n",
            "100%|██████████| 532/532 [00:08<00:00, 63.34it/s]\n",
            "100%|██████████| 532/532 [00:06<00:00, 76.52it/s]\n",
            "100%|██████████| 532/532 [00:08<00:00, 64.10it/s]\n",
            "100%|██████████| 133/133 [00:01<00:00, 94.31it/s]\n",
            "100%|██████████| 532/532 [00:07<00:00, 76.00it/s]\n",
            "100%|██████████| 532/532 [00:08<00:00, 64.38it/s]\n",
            "100%|██████████| 532/532 [00:07<00:00, 67.89it/s]\n",
            "100%|██████████| 532/532 [00:07<00:00, 71.07it/s]\n",
            "100%|██████████| 532/532 [00:08<00:00, 63.66it/s]\n",
            "100%|██████████| 133/133 [00:01<00:00, 93.27it/s]\n",
            "100%|██████████| 532/532 [00:07<00:00, 75.64it/s]\n",
            "100%|██████████| 532/532 [00:08<00:00, 63.07it/s]\n",
            "100%|██████████| 532/532 [00:07<00:00, 71.82it/s]\n",
            "100%|██████████| 532/532 [00:08<00:00, 65.39it/s]\n",
            "100%|██████████| 532/532 [00:08<00:00, 65.71it/s]\n",
            "100%|██████████| 133/133 [00:01<00:00, 77.12it/s]\n",
            "100%|██████████| 532/532 [00:06<00:00, 76.52it/s]\n",
            "100%|██████████| 532/532 [00:08<00:00, 63.78it/s]\n",
            "100%|██████████| 532/532 [00:07<00:00, 75.92it/s]\n",
            "100%|██████████| 532/532 [00:08<00:00, 62.66it/s]\n",
            "100%|██████████| 532/532 [00:07<00:00, 70.76it/s]\n",
            "100%|██████████| 133/133 [00:02<00:00, 58.47it/s]\n",
            "100%|██████████| 532/532 [00:06<00:00, 76.28it/s]\n",
            "100%|██████████| 532/532 [00:08<00:00, 63.40it/s]\n",
            "100%|██████████| 532/532 [00:07<00:00, 75.48it/s]\n",
            "100%|██████████| 532/532 [00:08<00:00, 62.37it/s]\n",
            "100%|██████████| 532/532 [00:06<00:00, 76.20it/s]\n",
            "100%|██████████| 133/133 [00:01<00:00, 66.71it/s]\n",
            "100%|██████████| 532/532 [00:07<00:00, 68.46it/s]\n",
            "100%|██████████| 532/532 [00:08<00:00, 63.70it/s]\n",
            "100%|██████████| 532/532 [00:06<00:00, 77.70it/s]\n",
            "100%|██████████| 532/532 [00:08<00:00, 63.53it/s]\n",
            "100%|██████████| 532/532 [00:06<00:00, 76.75it/s]\n",
            "100%|██████████| 133/133 [00:01<00:00, 95.29it/s]\n",
            "100%|██████████| 532/532 [00:08<00:00, 63.37it/s]\n",
            "100%|██████████| 532/532 [00:07<00:00, 70.80it/s]\n",
            "100%|██████████| 532/532 [00:07<00:00, 69.61it/s]\n",
            "100%|██████████| 532/532 [00:08<00:00, 62.93it/s]\n",
            "100%|██████████| 532/532 [00:06<00:00, 76.54it/s]\n",
            "100%|██████████| 133/133 [00:01<00:00, 92.72it/s]\n",
            "100%|██████████| 532/532 [00:08<00:00, 63.66it/s]\n",
            "100%|██████████| 532/532 [00:06<00:00, 77.03it/s]\n",
            "100%|██████████| 532/532 [00:08<00:00, 62.87it/s]\n",
            "100%|██████████| 532/532 [00:07<00:00, 69.84it/s]\n",
            "100%|██████████| 532/532 [00:07<00:00, 68.74it/s]\n",
            "100%|██████████| 133/133 [00:01<00:00, 90.96it/s]\n",
            "100%|██████████| 532/532 [00:08<00:00, 62.62it/s]\n",
            "100%|██████████| 532/532 [00:07<00:00, 75.22it/s]\n",
            "100%|██████████| 532/532 [00:08<00:00, 62.15it/s]\n",
            "100%|██████████| 532/532 [00:07<00:00, 72.14it/s]\n",
            "100%|██████████| 532/532 [00:08<00:00, 64.98it/s]\n",
            "100%|██████████| 133/133 [00:01<00:00, 91.00it/s]\n",
            "100%|██████████| 532/532 [00:08<00:00, 61.94it/s]\n",
            "100%|██████████| 532/532 [00:07<00:00, 75.35it/s]\n",
            "100%|██████████| 532/532 [00:08<00:00, 63.74it/s]\n",
            "100%|██████████| 532/532 [00:06<00:00, 76.53it/s]\n",
            "100%|██████████| 532/532 [00:08<00:00, 62.42it/s]\n",
            "100%|██████████| 133/133 [00:01<00:00, 91.71it/s]\n",
            "100%|██████████| 532/532 [00:08<00:00, 62.45it/s]\n",
            "100%|██████████| 532/532 [00:07<00:00, 75.06it/s]\n",
            "100%|██████████| 532/532 [00:08<00:00, 62.53it/s]\n",
            "100%|██████████| 532/532 [00:06<00:00, 76.36it/s]\n",
            "100%|██████████| 532/532 [00:08<00:00, 63.25it/s]\n",
            "100%|██████████| 133/133 [00:01<00:00, 92.50it/s]\n",
            "100%|██████████| 532/532 [00:08<00:00, 65.72it/s]\n",
            "100%|██████████| 532/532 [00:07<00:00, 71.15it/s]\n",
            "100%|██████████| 532/532 [00:08<00:00, 62.74it/s]\n",
            "100%|██████████| 532/532 [00:06<00:00, 76.45it/s]\n",
            "100%|██████████| 532/532 [00:08<00:00, 62.77it/s]\n",
            "100%|██████████| 133/133 [00:01<00:00, 94.11it/s]\n",
            "100%|██████████| 532/532 [00:07<00:00, 70.37it/s]\n",
            "100%|██████████| 532/532 [00:08<00:00, 66.42it/s]\n",
            "100%|██████████| 532/532 [00:08<00:00, 62.59it/s]\n",
            "100%|██████████| 532/532 [00:07<00:00, 75.63it/s]\n",
            "100%|██████████| 532/532 [00:08<00:00, 63.36it/s]\n",
            "100%|██████████| 133/133 [00:01<00:00, 93.52it/s]\n",
            "100%|██████████| 532/532 [00:07<00:00, 75.96it/s]\n",
            "100%|██████████| 532/532 [00:08<00:00, 62.65it/s]\n",
            "100%|██████████| 532/532 [00:07<00:00, 68.61it/s]\n",
            "100%|██████████| 532/532 [00:07<00:00, 69.21it/s]\n",
            "100%|██████████| 532/532 [00:08<00:00, 63.62it/s]\n",
            "100%|██████████| 133/133 [00:01<00:00, 92.40it/s]\n",
            "100%|██████████| 532/532 [00:06<00:00, 76.58it/s]\n",
            "100%|██████████| 532/532 [00:08<00:00, 62.74it/s]\n",
            "100%|██████████| 532/532 [00:07<00:00, 73.95it/s]\n",
            "100%|██████████| 532/532 [00:08<00:00, 63.75it/s]\n",
            "100%|██████████| 532/532 [00:07<00:00, 68.19it/s]\n",
            "100%|██████████| 133/133 [00:01<00:00, 67.58it/s]\n",
            "100%|██████████| 532/532 [00:06<00:00, 76.52it/s]\n",
            "100%|██████████| 532/532 [00:08<00:00, 62.89it/s]\n",
            "100%|██████████| 532/532 [00:06<00:00, 76.44it/s]\n",
            "100%|██████████| 532/532 [00:10<00:00, 52.45it/s]\n",
            "100%|██████████| 532/532 [00:07<00:00, 74.46it/s]\n",
            "100%|██████████| 133/133 [00:02<00:00, 59.99it/s]\n",
            "100%|██████████| 532/532 [00:07<00:00, 72.08it/s]\n",
            "100%|██████████| 532/532 [00:08<00:00, 62.96it/s]\n",
            "100%|██████████| 532/532 [00:07<00:00, 75.84it/s]\n",
            "100%|██████████| 532/532 [00:08<00:00, 62.69it/s]\n",
            "100%|██████████| 532/532 [00:06<00:00, 76.53it/s]\n",
            "100%|██████████| 133/133 [00:01<00:00, 70.30it/s]\n",
            "100%|██████████| 532/532 [00:07<00:00, 66.67it/s]\n",
            "100%|██████████| 532/532 [00:08<00:00, 64.11it/s]\n",
            "100%|██████████| 532/532 [00:07<00:00, 75.10it/s]\n",
            "100%|██████████| 532/532 [00:08<00:00, 63.06it/s]\n",
            "100%|██████████| 532/532 [00:06<00:00, 76.08it/s]\n",
            "100%|██████████| 133/133 [00:01<00:00, 92.45it/s]\n"
          ]
        },
        {
          "output_type": "stream",
          "name": "stdout",
          "text": [
            "Best parameters: {'alpha': 0.1, 'beta': 0.15, 'lr': 0.05}\n",
            "Best accuracy: 0.970450498675735\n"
          ]
        }
      ]
    },
    {
      "cell_type": "markdown",
      "source": [
        "9. Train and test the model"
      ],
      "metadata": {
        "id": "rtZS90XQ-wEA"
      }
    },
    {
      "cell_type": "code",
      "source": [
        "# Hyperparameters\n",
        "lr=best_params['lr']\n",
        "alpha=best_params['alpha']\n",
        "beta=best_params['beta']"
      ],
      "metadata": {
        "id": "3KhnNys8-0DX"
      },
      "execution_count": 23,
      "outputs": []
    },
    {
      "cell_type": "code",
      "source": [
        "#To not run again the algorithm:\n",
        "#lr=0.05\n",
        "#alpha=0.1\n",
        "#beta=0.15"
      ],
      "metadata": {
        "id": "zR6rDIt2J6Sv"
      },
      "execution_count": 24,
      "outputs": []
    },
    {
      "cell_type": "code",
      "source": [
        "model = Model(model_input_size)\n",
        "dcl_loss = DCL(2,deep_representation_size)\n",
        "acl_loss = ACL(deep_representation_size)\n",
        "binary_loss = nn.BCELoss()\n",
        "params = list(model.parameters()) + list(dcl_loss.parameters()) + list(acl_loss.parameters())\n",
        "optimizer = torch.optim.SGD(params, lr=lr)"
      ],
      "metadata": {
        "id": "bJ2aof0NaGdA"
      },
      "execution_count": 25,
      "outputs": []
    },
    {
      "cell_type": "code",
      "source": [
        "accuracy, precision, recall, f1, auc, all_labels, all_predictions = train_and_evaluate(X_train, y_train, X_test, y_test, model,\n",
        "                       acl_loss, dcl_loss, binary_loss, alpha, beta, optimizer, n_epochs, batch_size)\n",
        "\n",
        "print(\"Accuracy:\", accuracy)\n",
        "print(\"Precision:\", precision)\n",
        "print(\"Recall:\", recall)\n",
        "print(\"F1 Score:\", f1)\n",
        "print(\"AUC:\", auc)"
      ],
      "metadata": {
        "id": "QfIN948dveyk",
        "colab": {
          "base_uri": "https://localhost:8080/"
        },
        "outputId": "f58599e9-deb6-45cd-d277-7210876754e5"
      },
      "execution_count": 26,
      "outputs": [
        {
          "output_type": "stream",
          "name": "stderr",
          "text": [
            "100%|██████████| 3099/3099 [00:43<00:00, 71.76it/s]\n",
            "100%|██████████| 3099/3099 [00:43<00:00, 71.22it/s]\n",
            "100%|██████████| 3099/3099 [00:43<00:00, 71.74it/s]\n",
            "100%|██████████| 3099/3099 [00:43<00:00, 71.30it/s]\n",
            "100%|██████████| 3099/3099 [00:44<00:00, 70.04it/s]\n",
            "100%|██████████| 664/664 [00:06<00:00, 97.26it/s]\n"
          ]
        },
        {
          "output_type": "stream",
          "name": "stdout",
          "text": [
            "Accuracy: 0.982395029184711\n",
            "Precision: 0.9853101713417818\n",
            "Recall: 0.9793140862345504\n",
            "F1 Score: 0.9823029786831334\n",
            "AUC: 0.9823883723798398\n"
          ]
        }
      ]
    },
    {
      "cell_type": "code",
      "source": [
        "LABELS = ['Genuine', 'Fraud']\n",
        "conf_matrix = confusion_matrix(all_labels, all_predictions)\n",
        "plt.figure(figsize =(12, 12))\n",
        "sns.heatmap(conf_matrix, xticklabels = LABELS, yticklabels = LABELS, annot = True, fmt =\"d\");\n",
        "plt.title(\"Confusion matrix\")\n",
        "plt.ylabel('True class')\n",
        "plt.xlabel('Predicted class')\n",
        "plt.show()"
      ],
      "metadata": {
        "id": "ubl_I2EYcdsw"
      },
      "execution_count": null,
      "outputs": []
    }
  ]
}